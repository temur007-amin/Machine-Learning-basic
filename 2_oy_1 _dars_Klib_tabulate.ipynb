{
 "cells": [
  {
   "cell_type": "code",
   "execution_count": 3,
   "metadata": {},
   "outputs": [],
   "source": [
    "import klib"
   ]
  },
  {
   "cell_type": "code",
   "execution_count": 29,
   "metadata": {},
   "outputs": [],
   "source": [
    "import pandas as pd\n",
    "import numpy as np\n",
    "import seaborn as sns\n",
    "import matplotlib as plt\n",
    "from sklearn.preprocessing import LabelEncoder, StandardScaler\n",
    "from sklearn.model_selection import train_test_split\n",
    "from sklearn.linear_model import LinearRegression\n",
    "from sklearn.tree import DecisionTreeClassifier\n",
    "from sklearn.metrics import mean_squared_error,r2_score\n"
   ]
  },
  {
   "cell_type": "code",
   "execution_count": 2,
   "metadata": {},
   "outputs": [
    {
     "name": "stdout",
     "output_type": "stream",
     "text": [
      "Requirement already satisfied: klib in c:\\users\\user\\appdata\\local\\programs\\python\\python313\\lib\\site-packages (1.3.2)\n",
      "Requirement already satisfied: jinja2>=3.1.0 in c:\\users\\user\\appdata\\local\\programs\\python\\python313\\lib\\site-packages (from klib) (3.1.6)\n",
      "Requirement already satisfied: matplotlib>=3.6.0 in c:\\users\\user\\appdata\\local\\programs\\python\\python313\\lib\\site-packages (from klib) (3.10.0)\n",
      "Requirement already satisfied: numpy>=1.26.0 in c:\\users\\user\\appdata\\local\\programs\\python\\python313\\lib\\site-packages (from klib) (2.2.2)\n",
      "Requirement already satisfied: pandas<3.0,>=1.4 in c:\\users\\user\\appdata\\local\\programs\\python\\python313\\lib\\site-packages (from klib) (2.2.3)\n",
      "Requirement already satisfied: plotly>=5.11.0 in c:\\users\\user\\appdata\\local\\programs\\python\\python313\\lib\\site-packages (from klib) (6.0.0)\n",
      "Requirement already satisfied: scipy>=1.10.0 in c:\\users\\user\\appdata\\local\\programs\\python\\python313\\lib\\site-packages (from klib) (1.15.2)\n",
      "Requirement already satisfied: screeninfo>=0.8.1 in c:\\users\\user\\appdata\\local\\programs\\python\\python313\\lib\\site-packages (from klib) (0.8.1)\n",
      "Requirement already satisfied: seaborn>=0.12.0 in c:\\users\\user\\appdata\\local\\programs\\python\\python313\\lib\\site-packages (from klib) (0.13.2)\n",
      "Requirement already satisfied: MarkupSafe>=2.0 in c:\\users\\user\\appdata\\local\\programs\\python\\python313\\lib\\site-packages (from jinja2>=3.1.0->klib) (3.0.2)\n",
      "Requirement already satisfied: contourpy>=1.0.1 in c:\\users\\user\\appdata\\local\\programs\\python\\python313\\lib\\site-packages (from matplotlib>=3.6.0->klib) (1.3.1)\n",
      "Requirement already satisfied: cycler>=0.10 in c:\\users\\user\\appdata\\local\\programs\\python\\python313\\lib\\site-packages (from matplotlib>=3.6.0->klib) (0.12.1)\n",
      "Requirement already satisfied: fonttools>=4.22.0 in c:\\users\\user\\appdata\\local\\programs\\python\\python313\\lib\\site-packages (from matplotlib>=3.6.0->klib) (4.56.0)\n",
      "Requirement already satisfied: kiwisolver>=1.3.1 in c:\\users\\user\\appdata\\local\\programs\\python\\python313\\lib\\site-packages (from matplotlib>=3.6.0->klib) (1.4.8)\n",
      "Requirement already satisfied: packaging>=20.0 in c:\\users\\user\\appdata\\roaming\\python\\python313\\site-packages (from matplotlib>=3.6.0->klib) (24.2)\n",
      "Requirement already satisfied: pillow>=8 in c:\\users\\user\\appdata\\local\\programs\\python\\python313\\lib\\site-packages (from matplotlib>=3.6.0->klib) (11.1.0)\n",
      "Requirement already satisfied: pyparsing>=2.3.1 in c:\\users\\user\\appdata\\local\\programs\\python\\python313\\lib\\site-packages (from matplotlib>=3.6.0->klib) (3.2.1)\n",
      "Requirement already satisfied: python-dateutil>=2.7 in c:\\users\\user\\appdata\\roaming\\python\\python313\\site-packages (from matplotlib>=3.6.0->klib) (2.9.0.post0)\n",
      "Requirement already satisfied: pytz>=2020.1 in c:\\users\\user\\appdata\\local\\programs\\python\\python313\\lib\\site-packages (from pandas<3.0,>=1.4->klib) (2024.2)\n",
      "Requirement already satisfied: tzdata>=2022.7 in c:\\users\\user\\appdata\\local\\programs\\python\\python313\\lib\\site-packages (from pandas<3.0,>=1.4->klib) (2025.1)\n",
      "Requirement already satisfied: narwhals>=1.15.1 in c:\\users\\user\\appdata\\local\\programs\\python\\python313\\lib\\site-packages (from plotly>=5.11.0->klib) (1.29.1)\n",
      "Requirement already satisfied: six>=1.5 in c:\\users\\user\\appdata\\roaming\\python\\python313\\site-packages (from python-dateutil>=2.7->matplotlib>=3.6.0->klib) (1.17.0)\n",
      "Note: you may need to restart the kernel to use updated packages.\n"
     ]
    },
    {
     "name": "stderr",
     "output_type": "stream",
     "text": [
      "\n",
      "[notice] A new release of pip is available: 24.3.1 -> 25.0.1\n",
      "[notice] To update, run: python.exe -m pip install --upgrade pip\n"
     ]
    }
   ],
   "source": [
    "pip install klib\n"
   ]
  },
  {
   "cell_type": "code",
   "execution_count": 30,
   "metadata": {},
   "outputs": [],
   "source": [
    "df=pd.read_csv('sales_data.csv')"
   ]
  },
  {
   "cell_type": "code",
   "execution_count": 31,
   "metadata": {},
   "outputs": [
    {
     "name": "stdout",
     "output_type": "stream",
     "text": [
      "<class 'pandas.core.frame.DataFrame'>\n",
      "RangeIndex: 1000 entries, 0 to 999\n",
      "Data columns (total 14 columns):\n",
      " #   Column                Non-Null Count  Dtype  \n",
      "---  ------                --------------  -----  \n",
      " 0   Product_ID            999 non-null    float64\n",
      " 1   Sale_Date             998 non-null    object \n",
      " 2   Sales_Rep             999 non-null    object \n",
      " 3   Region                997 non-null    object \n",
      " 4   Sales_Amount          999 non-null    float64\n",
      " 5   Quantity_Sold         1000 non-null   int64  \n",
      " 6   Product_Category      999 non-null    object \n",
      " 7   Unit_Cost             998 non-null    float64\n",
      " 8   Unit_Price            998 non-null    float64\n",
      " 9   Customer_Type         998 non-null    object \n",
      " 10  Discount              1000 non-null   float64\n",
      " 11  Payment_Method        999 non-null    object \n",
      " 12  Sales_Channel         998 non-null    object \n",
      " 13  Region_and_Sales_Rep  999 non-null    object \n",
      "dtypes: float64(5), int64(1), object(8)\n",
      "memory usage: 109.5+ KB\n"
     ]
    }
   ],
   "source": [
    "df.info()"
   ]
  },
  {
   "cell_type": "code",
   "execution_count": 32,
   "metadata": {},
   "outputs": [
    {
     "data": {
      "text/plain": [
       "Product_ID              1\n",
       "Sale_Date               2\n",
       "Sales_Rep               1\n",
       "Region                  3\n",
       "Sales_Amount            1\n",
       "Quantity_Sold           0\n",
       "Product_Category        1\n",
       "Unit_Cost               2\n",
       "Unit_Price              2\n",
       "Customer_Type           2\n",
       "Discount                0\n",
       "Payment_Method          1\n",
       "Sales_Channel           2\n",
       "Region_and_Sales_Rep    1\n",
       "dtype: int64"
      ]
     },
     "execution_count": 32,
     "metadata": {},
     "output_type": "execute_result"
    }
   ],
   "source": [
    "df.isnull().sum()"
   ]
  },
  {
   "cell_type": "code",
   "execution_count": 33,
   "metadata": {},
   "outputs": [
    {
     "name": "stderr",
     "output_type": "stream",
     "text": [
      "C:\\Users\\User\\AppData\\Local\\Temp\\ipykernel_17352\\1330594439.py:5: FutureWarning: A value is trying to be set on a copy of a DataFrame or Series through chained assignment using an inplace method.\n",
      "The behavior will change in pandas 3.0. This inplace method will never work because the intermediate object on which we are setting values always behaves as a copy.\n",
      "\n",
      "For example, when doing 'df[col].method(value, inplace=True)', try using 'df.method({col: value}, inplace=True)' or df[col] = df[col].method(value) instead, to perform the operation inplace on the original object.\n",
      "\n",
      "\n",
      "  df[col].fillna(df[col].mean(),inplace=True)\n",
      "C:\\Users\\User\\AppData\\Local\\Temp\\ipykernel_17352\\1330594439.py:3: FutureWarning: A value is trying to be set on a copy of a DataFrame or Series through chained assignment using an inplace method.\n",
      "The behavior will change in pandas 3.0. This inplace method will never work because the intermediate object on which we are setting values always behaves as a copy.\n",
      "\n",
      "For example, when doing 'df[col].method(value, inplace=True)', try using 'df.method({col: value}, inplace=True)' or df[col] = df[col].method(value) instead, to perform the operation inplace on the original object.\n",
      "\n",
      "\n",
      "  df[col].fillna(df[col].mode()[0],inplace=True)\n"
     ]
    }
   ],
   "source": [
    "for col in df.columns:\n",
    "  if df[col].dtype=='object':\n",
    "    df[col].fillna(df[col].mode()[0],inplace=True)\n",
    "  else:\n",
    "    df[col].fillna(df[col].mean(),inplace=True)"
   ]
  },
  {
   "cell_type": "code",
   "execution_count": 34,
   "metadata": {},
   "outputs": [
    {
     "data": {
      "text/plain": [
       "Product_ID              0\n",
       "Sale_Date               0\n",
       "Sales_Rep               0\n",
       "Region                  0\n",
       "Sales_Amount            0\n",
       "Quantity_Sold           0\n",
       "Product_Category        0\n",
       "Unit_Cost               0\n",
       "Unit_Price              0\n",
       "Customer_Type           0\n",
       "Discount                0\n",
       "Payment_Method          0\n",
       "Sales_Channel           0\n",
       "Region_and_Sales_Rep    0\n",
       "dtype: int64"
      ]
     },
     "execution_count": 34,
     "metadata": {},
     "output_type": "execute_result"
    }
   ],
   "source": [
    "df.isnull().sum()"
   ]
  },
  {
   "cell_type": "code",
   "execution_count": 36,
   "metadata": {},
   "outputs": [],
   "source": [
    "cardinality=df.nunique()"
   ]
  },
  {
   "cell_type": "code",
   "execution_count": 37,
   "metadata": {},
   "outputs": [],
   "source": [
    "for col in df.columns:\n",
    "    if df[col].dtype=='object':\n",
    "        if cardinality[col]<=5:\n",
    "            df=pd.get_dummies(df,columns=[col],dtype=int,drop_first=True)\n",
    "        else:\n",
    "            le=LabelEncoder()\n",
    "            df[col]=le.fit_transform(df[col])"
   ]
  },
  {
   "cell_type": "code",
   "execution_count": 38,
   "metadata": {},
   "outputs": [
    {
     "name": "stdout",
     "output_type": "stream",
     "text": [
      "<class 'pandas.core.frame.DataFrame'>\n",
      "RangeIndex: 1000 entries, 0 to 999\n",
      "Data columns (total 22 columns):\n",
      " #   Column                        Non-Null Count  Dtype  \n",
      "---  ------                        --------------  -----  \n",
      " 0   Product_ID                    1000 non-null   float64\n",
      " 1   Sale_Date                     1000 non-null   int64  \n",
      " 2   Sales_Amount                  1000 non-null   float64\n",
      " 3   Quantity_Sold                 1000 non-null   int64  \n",
      " 4   Unit_Cost                     1000 non-null   float64\n",
      " 5   Unit_Price                    1000 non-null   float64\n",
      " 6   Discount                      1000 non-null   float64\n",
      " 7   Region_and_Sales_Rep          1000 non-null   int64  \n",
      " 8   Sales_Rep_Bob                 1000 non-null   int64  \n",
      " 9   Sales_Rep_Charlie             1000 non-null   int64  \n",
      " 10  Sales_Rep_David               1000 non-null   int64  \n",
      " 11  Sales_Rep_Eve                 1000 non-null   int64  \n",
      " 12  Region_North                  1000 non-null   int64  \n",
      " 13  Region_South                  1000 non-null   int64  \n",
      " 14  Region_West                   1000 non-null   int64  \n",
      " 15  Product_Category_Electronics  1000 non-null   int64  \n",
      " 16  Product_Category_Food         1000 non-null   int64  \n",
      " 17  Product_Category_Furniture    1000 non-null   int64  \n",
      " 18  Customer_Type_Returning       1000 non-null   int64  \n",
      " 19  Payment_Method_Cash           1000 non-null   int64  \n",
      " 20  Payment_Method_Credit Card    1000 non-null   int64  \n",
      " 21  Sales_Channel_Retail          1000 non-null   int64  \n",
      "dtypes: float64(5), int64(17)\n",
      "memory usage: 172.0 KB\n"
     ]
    }
   ],
   "source": [
    "df.info()"
   ]
  },
  {
   "cell_type": "code",
   "execution_count": 39,
   "metadata": {},
   "outputs": [],
   "source": [
    "num_col=df.select_dtypes(include=['int64','int32']).columns"
   ]
  },
  {
   "cell_type": "code",
   "execution_count": 40,
   "metadata": {},
   "outputs": [
    {
     "data": {
      "text/plain": [
       "Index(['Sale_Date', 'Quantity_Sold', 'Region_and_Sales_Rep', 'Sales_Rep_Bob',\n",
       "       'Sales_Rep_Charlie', 'Sales_Rep_David', 'Sales_Rep_Eve', 'Region_North',\n",
       "       'Region_South', 'Region_West', 'Product_Category_Electronics',\n",
       "       'Product_Category_Food', 'Product_Category_Furniture',\n",
       "       'Customer_Type_Returning', 'Payment_Method_Cash',\n",
       "       'Payment_Method_Credit Card', 'Sales_Channel_Retail'],\n",
       "      dtype='object')"
      ]
     },
     "execution_count": 40,
     "metadata": {},
     "output_type": "execute_result"
    }
   ],
   "source": [
    "num_col"
   ]
  },
  {
   "cell_type": "code",
   "execution_count": 41,
   "metadata": {},
   "outputs": [],
   "source": [
    "scaler=StandardScaler()"
   ]
  },
  {
   "cell_type": "code",
   "execution_count": 42,
   "metadata": {},
   "outputs": [],
   "source": [
    "df[num_col]=scaler.fit_transform(df[num_col])"
   ]
  },
  {
   "cell_type": "code",
   "execution_count": 43,
   "metadata": {},
   "outputs": [
    {
     "data": {
      "text/html": [
       "<div>\n",
       "<style scoped>\n",
       "    .dataframe tbody tr th:only-of-type {\n",
       "        vertical-align: middle;\n",
       "    }\n",
       "\n",
       "    .dataframe tbody tr th {\n",
       "        vertical-align: top;\n",
       "    }\n",
       "\n",
       "    .dataframe thead th {\n",
       "        text-align: right;\n",
       "    }\n",
       "</style>\n",
       "<table border=\"1\" class=\"dataframe\">\n",
       "  <thead>\n",
       "    <tr style=\"text-align: right;\">\n",
       "      <th></th>\n",
       "      <th>Product_ID</th>\n",
       "      <th>Sale_Date</th>\n",
       "      <th>Sales_Amount</th>\n",
       "      <th>Quantity_Sold</th>\n",
       "      <th>Unit_Cost</th>\n",
       "      <th>Unit_Price</th>\n",
       "      <th>Discount</th>\n",
       "      <th>Region_and_Sales_Rep</th>\n",
       "      <th>Sales_Rep_Bob</th>\n",
       "      <th>Sales_Rep_Charlie</th>\n",
       "      <th>...</th>\n",
       "      <th>Region_North</th>\n",
       "      <th>Region_South</th>\n",
       "      <th>Region_West</th>\n",
       "      <th>Product_Category_Electronics</th>\n",
       "      <th>Product_Category_Food</th>\n",
       "      <th>Product_Category_Furniture</th>\n",
       "      <th>Customer_Type_Returning</th>\n",
       "      <th>Payment_Method_Cash</th>\n",
       "      <th>Payment_Method_Credit Card</th>\n",
       "      <th>Sales_Channel_Retail</th>\n",
       "    </tr>\n",
       "  </thead>\n",
       "  <tbody>\n",
       "    <tr>\n",
       "      <th>0</th>\n",
       "      <td>1052.0</td>\n",
       "      <td>-0.297436</td>\n",
       "      <td>5053.97</td>\n",
       "      <td>-0.519717</td>\n",
       "      <td>152.75</td>\n",
       "      <td>267.22</td>\n",
       "      <td>0.09</td>\n",
       "      <td>-0.571772</td>\n",
       "      <td>1.951331</td>\n",
       "      <td>-0.450965</td>\n",
       "      <td>...</td>\n",
       "      <td>1.644294</td>\n",
       "      <td>-0.538816</td>\n",
       "      <td>-0.565032</td>\n",
       "      <td>-0.571192</td>\n",
       "      <td>-0.538816</td>\n",
       "      <td>1.687055</td>\n",
       "      <td>1.012073</td>\n",
       "      <td>1.481516</td>\n",
       "      <td>-0.727360</td>\n",
       "      <td>-1.026347</td>\n",
       "    </tr>\n",
       "    <tr>\n",
       "      <th>1</th>\n",
       "      <td>1093.0</td>\n",
       "      <td>0.176847</td>\n",
       "      <td>4384.02</td>\n",
       "      <td>-0.590379</td>\n",
       "      <td>3816.39</td>\n",
       "      <td>4209.44</td>\n",
       "      <td>0.11</td>\n",
       "      <td>1.164026</td>\n",
       "      <td>1.951331</td>\n",
       "      <td>-0.450965</td>\n",
       "      <td>...</td>\n",
       "      <td>-0.608164</td>\n",
       "      <td>-0.538816</td>\n",
       "      <td>1.769811</td>\n",
       "      <td>-0.571192</td>\n",
       "      <td>-0.538816</td>\n",
       "      <td>1.687055</td>\n",
       "      <td>1.012073</td>\n",
       "      <td>1.481516</td>\n",
       "      <td>-0.727360</td>\n",
       "      <td>0.974329</td>\n",
       "    </tr>\n",
       "    <tr>\n",
       "      <th>2</th>\n",
       "      <td>1015.0</td>\n",
       "      <td>1.650152</td>\n",
       "      <td>4631.23</td>\n",
       "      <td>0.328224</td>\n",
       "      <td>261.56</td>\n",
       "      <td>371.40</td>\n",
       "      <td>0.20</td>\n",
       "      <td>0.643287</td>\n",
       "      <td>-0.512471</td>\n",
       "      <td>-0.450965</td>\n",
       "      <td>...</td>\n",
       "      <td>-0.608164</td>\n",
       "      <td>1.855921</td>\n",
       "      <td>-0.565032</td>\n",
       "      <td>-0.571192</td>\n",
       "      <td>1.855921</td>\n",
       "      <td>-0.592749</td>\n",
       "      <td>1.012073</td>\n",
       "      <td>-0.674985</td>\n",
       "      <td>-0.727360</td>\n",
       "      <td>0.974329</td>\n",
       "    </tr>\n",
       "    <tr>\n",
       "      <th>3</th>\n",
       "      <td>1072.0</td>\n",
       "      <td>1.387782</td>\n",
       "      <td>2167.94</td>\n",
       "      <td>0.964180</td>\n",
       "      <td>4330.03</td>\n",
       "      <td>4467.75</td>\n",
       "      <td>0.02</td>\n",
       "      <td>0.296127</td>\n",
       "      <td>1.951331</td>\n",
       "      <td>-0.450965</td>\n",
       "      <td>...</td>\n",
       "      <td>-0.608164</td>\n",
       "      <td>1.855921</td>\n",
       "      <td>-0.565032</td>\n",
       "      <td>-0.571192</td>\n",
       "      <td>-0.538816</td>\n",
       "      <td>-0.592749</td>\n",
       "      <td>-0.988071</td>\n",
       "      <td>-0.674985</td>\n",
       "      <td>1.374836</td>\n",
       "      <td>0.974329</td>\n",
       "    </tr>\n",
       "    <tr>\n",
       "      <th>4</th>\n",
       "      <td>1061.0</td>\n",
       "      <td>-0.075431</td>\n",
       "      <td>3750.20</td>\n",
       "      <td>-0.873026</td>\n",
       "      <td>637.37</td>\n",
       "      <td>692.71</td>\n",
       "      <td>0.08</td>\n",
       "      <td>-1.266091</td>\n",
       "      <td>-0.512471</td>\n",
       "      <td>2.217467</td>\n",
       "      <td>...</td>\n",
       "      <td>-0.608164</td>\n",
       "      <td>-0.538816</td>\n",
       "      <td>-0.565032</td>\n",
       "      <td>1.750726</td>\n",
       "      <td>-0.538816</td>\n",
       "      <td>-0.592749</td>\n",
       "      <td>-0.988071</td>\n",
       "      <td>-0.674985</td>\n",
       "      <td>1.374836</td>\n",
       "      <td>-1.026347</td>\n",
       "    </tr>\n",
       "  </tbody>\n",
       "</table>\n",
       "<p>5 rows × 22 columns</p>\n",
       "</div>"
      ],
      "text/plain": [
       "   Product_ID  Sale_Date  Sales_Amount  Quantity_Sold  Unit_Cost  Unit_Price  \\\n",
       "0      1052.0  -0.297436       5053.97      -0.519717     152.75      267.22   \n",
       "1      1093.0   0.176847       4384.02      -0.590379    3816.39     4209.44   \n",
       "2      1015.0   1.650152       4631.23       0.328224     261.56      371.40   \n",
       "3      1072.0   1.387782       2167.94       0.964180    4330.03     4467.75   \n",
       "4      1061.0  -0.075431       3750.20      -0.873026     637.37      692.71   \n",
       "\n",
       "   Discount  Region_and_Sales_Rep  Sales_Rep_Bob  Sales_Rep_Charlie  ...  \\\n",
       "0      0.09             -0.571772       1.951331          -0.450965  ...   \n",
       "1      0.11              1.164026       1.951331          -0.450965  ...   \n",
       "2      0.20              0.643287      -0.512471          -0.450965  ...   \n",
       "3      0.02              0.296127       1.951331          -0.450965  ...   \n",
       "4      0.08             -1.266091      -0.512471           2.217467  ...   \n",
       "\n",
       "   Region_North  Region_South  Region_West  Product_Category_Electronics  \\\n",
       "0      1.644294     -0.538816    -0.565032                     -0.571192   \n",
       "1     -0.608164     -0.538816     1.769811                     -0.571192   \n",
       "2     -0.608164      1.855921    -0.565032                     -0.571192   \n",
       "3     -0.608164      1.855921    -0.565032                     -0.571192   \n",
       "4     -0.608164     -0.538816    -0.565032                      1.750726   \n",
       "\n",
       "   Product_Category_Food  Product_Category_Furniture  Customer_Type_Returning  \\\n",
       "0              -0.538816                    1.687055                 1.012073   \n",
       "1              -0.538816                    1.687055                 1.012073   \n",
       "2               1.855921                   -0.592749                 1.012073   \n",
       "3              -0.538816                   -0.592749                -0.988071   \n",
       "4              -0.538816                   -0.592749                -0.988071   \n",
       "\n",
       "   Payment_Method_Cash  Payment_Method_Credit Card  Sales_Channel_Retail  \n",
       "0             1.481516                   -0.727360             -1.026347  \n",
       "1             1.481516                   -0.727360              0.974329  \n",
       "2            -0.674985                   -0.727360              0.974329  \n",
       "3            -0.674985                    1.374836              0.974329  \n",
       "4            -0.674985                    1.374836             -1.026347  \n",
       "\n",
       "[5 rows x 22 columns]"
      ]
     },
     "execution_count": 43,
     "metadata": {},
     "output_type": "execute_result"
    }
   ],
   "source": [
    "df.head()"
   ]
  },
  {
   "cell_type": "code",
   "execution_count": 45,
   "metadata": {},
   "outputs": [],
   "source": [
    "x=df.drop(columns=['Region_and_Sales_Rep'])"
   ]
  },
  {
   "cell_type": "code",
   "execution_count": 47,
   "metadata": {},
   "outputs": [
    {
     "data": {
      "text/html": [
       "<div>\n",
       "<style scoped>\n",
       "    .dataframe tbody tr th:only-of-type {\n",
       "        vertical-align: middle;\n",
       "    }\n",
       "\n",
       "    .dataframe tbody tr th {\n",
       "        vertical-align: top;\n",
       "    }\n",
       "\n",
       "    .dataframe thead th {\n",
       "        text-align: right;\n",
       "    }\n",
       "</style>\n",
       "<table border=\"1\" class=\"dataframe\">\n",
       "  <thead>\n",
       "    <tr style=\"text-align: right;\">\n",
       "      <th></th>\n",
       "      <th>Product_ID</th>\n",
       "      <th>Sale_Date</th>\n",
       "      <th>Sales_Amount</th>\n",
       "      <th>Quantity_Sold</th>\n",
       "      <th>Unit_Cost</th>\n",
       "      <th>Unit_Price</th>\n",
       "      <th>Discount</th>\n",
       "      <th>Sales_Rep_Bob</th>\n",
       "      <th>Sales_Rep_Charlie</th>\n",
       "      <th>Sales_Rep_David</th>\n",
       "      <th>...</th>\n",
       "      <th>Region_North</th>\n",
       "      <th>Region_South</th>\n",
       "      <th>Region_West</th>\n",
       "      <th>Product_Category_Electronics</th>\n",
       "      <th>Product_Category_Food</th>\n",
       "      <th>Product_Category_Furniture</th>\n",
       "      <th>Customer_Type_Returning</th>\n",
       "      <th>Payment_Method_Cash</th>\n",
       "      <th>Payment_Method_Credit Card</th>\n",
       "      <th>Sales_Channel_Retail</th>\n",
       "    </tr>\n",
       "  </thead>\n",
       "  <tbody>\n",
       "    <tr>\n",
       "      <th>0</th>\n",
       "      <td>1052.0</td>\n",
       "      <td>-0.297436</td>\n",
       "      <td>5053.97</td>\n",
       "      <td>-0.519717</td>\n",
       "      <td>152.75</td>\n",
       "      <td>267.22</td>\n",
       "      <td>0.09</td>\n",
       "      <td>1.951331</td>\n",
       "      <td>-0.450965</td>\n",
       "      <td>-0.535725</td>\n",
       "      <td>...</td>\n",
       "      <td>1.644294</td>\n",
       "      <td>-0.538816</td>\n",
       "      <td>-0.565032</td>\n",
       "      <td>-0.571192</td>\n",
       "      <td>-0.538816</td>\n",
       "      <td>1.687055</td>\n",
       "      <td>1.012073</td>\n",
       "      <td>1.481516</td>\n",
       "      <td>-0.727360</td>\n",
       "      <td>-1.026347</td>\n",
       "    </tr>\n",
       "    <tr>\n",
       "      <th>1</th>\n",
       "      <td>1093.0</td>\n",
       "      <td>0.176847</td>\n",
       "      <td>4384.02</td>\n",
       "      <td>-0.590379</td>\n",
       "      <td>3816.39</td>\n",
       "      <td>4209.44</td>\n",
       "      <td>0.11</td>\n",
       "      <td>1.951331</td>\n",
       "      <td>-0.450965</td>\n",
       "      <td>-0.535725</td>\n",
       "      <td>...</td>\n",
       "      <td>-0.608164</td>\n",
       "      <td>-0.538816</td>\n",
       "      <td>1.769811</td>\n",
       "      <td>-0.571192</td>\n",
       "      <td>-0.538816</td>\n",
       "      <td>1.687055</td>\n",
       "      <td>1.012073</td>\n",
       "      <td>1.481516</td>\n",
       "      <td>-0.727360</td>\n",
       "      <td>0.974329</td>\n",
       "    </tr>\n",
       "    <tr>\n",
       "      <th>2</th>\n",
       "      <td>1015.0</td>\n",
       "      <td>1.650152</td>\n",
       "      <td>4631.23</td>\n",
       "      <td>0.328224</td>\n",
       "      <td>261.56</td>\n",
       "      <td>371.40</td>\n",
       "      <td>0.20</td>\n",
       "      <td>-0.512471</td>\n",
       "      <td>-0.450965</td>\n",
       "      <td>1.866629</td>\n",
       "      <td>...</td>\n",
       "      <td>-0.608164</td>\n",
       "      <td>1.855921</td>\n",
       "      <td>-0.565032</td>\n",
       "      <td>-0.571192</td>\n",
       "      <td>1.855921</td>\n",
       "      <td>-0.592749</td>\n",
       "      <td>1.012073</td>\n",
       "      <td>-0.674985</td>\n",
       "      <td>-0.727360</td>\n",
       "      <td>0.974329</td>\n",
       "    </tr>\n",
       "    <tr>\n",
       "      <th>3</th>\n",
       "      <td>1072.0</td>\n",
       "      <td>1.387782</td>\n",
       "      <td>2167.94</td>\n",
       "      <td>0.964180</td>\n",
       "      <td>4330.03</td>\n",
       "      <td>4467.75</td>\n",
       "      <td>0.02</td>\n",
       "      <td>1.951331</td>\n",
       "      <td>-0.450965</td>\n",
       "      <td>-0.535725</td>\n",
       "      <td>...</td>\n",
       "      <td>-0.608164</td>\n",
       "      <td>1.855921</td>\n",
       "      <td>-0.565032</td>\n",
       "      <td>-0.571192</td>\n",
       "      <td>-0.538816</td>\n",
       "      <td>-0.592749</td>\n",
       "      <td>-0.988071</td>\n",
       "      <td>-0.674985</td>\n",
       "      <td>1.374836</td>\n",
       "      <td>0.974329</td>\n",
       "    </tr>\n",
       "    <tr>\n",
       "      <th>4</th>\n",
       "      <td>1061.0</td>\n",
       "      <td>-0.075431</td>\n",
       "      <td>3750.20</td>\n",
       "      <td>-0.873026</td>\n",
       "      <td>637.37</td>\n",
       "      <td>692.71</td>\n",
       "      <td>0.08</td>\n",
       "      <td>-0.512471</td>\n",
       "      <td>2.217467</td>\n",
       "      <td>-0.535725</td>\n",
       "      <td>...</td>\n",
       "      <td>-0.608164</td>\n",
       "      <td>-0.538816</td>\n",
       "      <td>-0.565032</td>\n",
       "      <td>1.750726</td>\n",
       "      <td>-0.538816</td>\n",
       "      <td>-0.592749</td>\n",
       "      <td>-0.988071</td>\n",
       "      <td>-0.674985</td>\n",
       "      <td>1.374836</td>\n",
       "      <td>-1.026347</td>\n",
       "    </tr>\n",
       "  </tbody>\n",
       "</table>\n",
       "<p>5 rows × 21 columns</p>\n",
       "</div>"
      ],
      "text/plain": [
       "   Product_ID  Sale_Date  Sales_Amount  Quantity_Sold  Unit_Cost  Unit_Price  \\\n",
       "0      1052.0  -0.297436       5053.97      -0.519717     152.75      267.22   \n",
       "1      1093.0   0.176847       4384.02      -0.590379    3816.39     4209.44   \n",
       "2      1015.0   1.650152       4631.23       0.328224     261.56      371.40   \n",
       "3      1072.0   1.387782       2167.94       0.964180    4330.03     4467.75   \n",
       "4      1061.0  -0.075431       3750.20      -0.873026     637.37      692.71   \n",
       "\n",
       "   Discount  Sales_Rep_Bob  Sales_Rep_Charlie  Sales_Rep_David  ...  \\\n",
       "0      0.09       1.951331          -0.450965        -0.535725  ...   \n",
       "1      0.11       1.951331          -0.450965        -0.535725  ...   \n",
       "2      0.20      -0.512471          -0.450965         1.866629  ...   \n",
       "3      0.02       1.951331          -0.450965        -0.535725  ...   \n",
       "4      0.08      -0.512471           2.217467        -0.535725  ...   \n",
       "\n",
       "   Region_North  Region_South  Region_West  Product_Category_Electronics  \\\n",
       "0      1.644294     -0.538816    -0.565032                     -0.571192   \n",
       "1     -0.608164     -0.538816     1.769811                     -0.571192   \n",
       "2     -0.608164      1.855921    -0.565032                     -0.571192   \n",
       "3     -0.608164      1.855921    -0.565032                     -0.571192   \n",
       "4     -0.608164     -0.538816    -0.565032                      1.750726   \n",
       "\n",
       "   Product_Category_Food  Product_Category_Furniture  Customer_Type_Returning  \\\n",
       "0              -0.538816                    1.687055                 1.012073   \n",
       "1              -0.538816                    1.687055                 1.012073   \n",
       "2               1.855921                   -0.592749                 1.012073   \n",
       "3              -0.538816                   -0.592749                -0.988071   \n",
       "4              -0.538816                   -0.592749                -0.988071   \n",
       "\n",
       "   Payment_Method_Cash  Payment_Method_Credit Card  Sales_Channel_Retail  \n",
       "0             1.481516                   -0.727360             -1.026347  \n",
       "1             1.481516                   -0.727360              0.974329  \n",
       "2            -0.674985                   -0.727360              0.974329  \n",
       "3            -0.674985                    1.374836              0.974329  \n",
       "4            -0.674985                    1.374836             -1.026347  \n",
       "\n",
       "[5 rows x 21 columns]"
      ]
     },
     "execution_count": 47,
     "metadata": {},
     "output_type": "execute_result"
    }
   ],
   "source": [
    "x.head()"
   ]
  },
  {
   "cell_type": "code",
   "execution_count": 48,
   "metadata": {},
   "outputs": [],
   "source": [
    "y=df['Region_and_Sales_Rep']"
   ]
  },
  {
   "cell_type": "code",
   "execution_count": 49,
   "metadata": {},
   "outputs": [],
   "source": [
    "x_train,x_temp,y_train,y_temp=train_test_split(x,y,test_size=0.2,random_state=42)\n",
    "x_test,x_val,y_test,y_val=train_test_split(x_temp,y_temp,test_size=0.5,random_state=42)"
   ]
  },
  {
   "cell_type": "code",
   "execution_count": 50,
   "metadata": {},
   "outputs": [
    {
     "data": {
      "text/plain": [
       "(800, 21)"
      ]
     },
     "execution_count": 50,
     "metadata": {},
     "output_type": "execute_result"
    }
   ],
   "source": [
    "x_train.shape"
   ]
  },
  {
   "cell_type": "code",
   "execution_count": 51,
   "metadata": {},
   "outputs": [
    {
     "data": {
      "text/plain": [
       "(800,)"
      ]
     },
     "execution_count": 51,
     "metadata": {},
     "output_type": "execute_result"
    }
   ],
   "source": [
    "y_train.shape"
   ]
  },
  {
   "cell_type": "code",
   "execution_count": 52,
   "metadata": {},
   "outputs": [
    {
     "data": {
      "text/plain": [
       "(100, 21)"
      ]
     },
     "execution_count": 52,
     "metadata": {},
     "output_type": "execute_result"
    }
   ],
   "source": [
    "x_test.shape"
   ]
  },
  {
   "cell_type": "code",
   "execution_count": 53,
   "metadata": {},
   "outputs": [
    {
     "data": {
      "text/plain": [
       "(100,)"
      ]
     },
     "execution_count": 53,
     "metadata": {},
     "output_type": "execute_result"
    }
   ],
   "source": [
    "y_test.shape"
   ]
  },
  {
   "cell_type": "code",
   "execution_count": 54,
   "metadata": {},
   "outputs": [
    {
     "data": {
      "text/plain": [
       "(100, 21)"
      ]
     },
     "execution_count": 54,
     "metadata": {},
     "output_type": "execute_result"
    }
   ],
   "source": [
    "x_val.shape"
   ]
  },
  {
   "cell_type": "code",
   "execution_count": 55,
   "metadata": {},
   "outputs": [
    {
     "data": {
      "text/plain": [
       "(100,)"
      ]
     },
     "execution_count": 55,
     "metadata": {},
     "output_type": "execute_result"
    }
   ],
   "source": [
    "y_val.shape"
   ]
  },
  {
   "cell_type": "code",
   "execution_count": 56,
   "metadata": {},
   "outputs": [],
   "source": [
    "#Model Selection\n",
    "model=LinearRegression()"
   ]
  },
  {
   "cell_type": "code",
   "execution_count": 57,
   "metadata": {},
   "outputs": [],
   "source": [
    "linear_model=model.fit(x_train,y_train)"
   ]
  },
  {
   "cell_type": "code",
   "execution_count": 58,
   "metadata": {},
   "outputs": [
    {
     "data": {
      "text/html": [
       "<style>#sk-container-id-1 {\n",
       "  /* Definition of color scheme common for light and dark mode */\n",
       "  --sklearn-color-text: #000;\n",
       "  --sklearn-color-text-muted: #666;\n",
       "  --sklearn-color-line: gray;\n",
       "  /* Definition of color scheme for unfitted estimators */\n",
       "  --sklearn-color-unfitted-level-0: #fff5e6;\n",
       "  --sklearn-color-unfitted-level-1: #f6e4d2;\n",
       "  --sklearn-color-unfitted-level-2: #ffe0b3;\n",
       "  --sklearn-color-unfitted-level-3: chocolate;\n",
       "  /* Definition of color scheme for fitted estimators */\n",
       "  --sklearn-color-fitted-level-0: #f0f8ff;\n",
       "  --sklearn-color-fitted-level-1: #d4ebff;\n",
       "  --sklearn-color-fitted-level-2: #b3dbfd;\n",
       "  --sklearn-color-fitted-level-3: cornflowerblue;\n",
       "\n",
       "  /* Specific color for light theme */\n",
       "  --sklearn-color-text-on-default-background: var(--sg-text-color, var(--theme-code-foreground, var(--jp-content-font-color1, black)));\n",
       "  --sklearn-color-background: var(--sg-background-color, var(--theme-background, var(--jp-layout-color0, white)));\n",
       "  --sklearn-color-border-box: var(--sg-text-color, var(--theme-code-foreground, var(--jp-content-font-color1, black)));\n",
       "  --sklearn-color-icon: #696969;\n",
       "\n",
       "  @media (prefers-color-scheme: dark) {\n",
       "    /* Redefinition of color scheme for dark theme */\n",
       "    --sklearn-color-text-on-default-background: var(--sg-text-color, var(--theme-code-foreground, var(--jp-content-font-color1, white)));\n",
       "    --sklearn-color-background: var(--sg-background-color, var(--theme-background, var(--jp-layout-color0, #111)));\n",
       "    --sklearn-color-border-box: var(--sg-text-color, var(--theme-code-foreground, var(--jp-content-font-color1, white)));\n",
       "    --sklearn-color-icon: #878787;\n",
       "  }\n",
       "}\n",
       "\n",
       "#sk-container-id-1 {\n",
       "  color: var(--sklearn-color-text);\n",
       "}\n",
       "\n",
       "#sk-container-id-1 pre {\n",
       "  padding: 0;\n",
       "}\n",
       "\n",
       "#sk-container-id-1 input.sk-hidden--visually {\n",
       "  border: 0;\n",
       "  clip: rect(1px 1px 1px 1px);\n",
       "  clip: rect(1px, 1px, 1px, 1px);\n",
       "  height: 1px;\n",
       "  margin: -1px;\n",
       "  overflow: hidden;\n",
       "  padding: 0;\n",
       "  position: absolute;\n",
       "  width: 1px;\n",
       "}\n",
       "\n",
       "#sk-container-id-1 div.sk-dashed-wrapped {\n",
       "  border: 1px dashed var(--sklearn-color-line);\n",
       "  margin: 0 0.4em 0.5em 0.4em;\n",
       "  box-sizing: border-box;\n",
       "  padding-bottom: 0.4em;\n",
       "  background-color: var(--sklearn-color-background);\n",
       "}\n",
       "\n",
       "#sk-container-id-1 div.sk-container {\n",
       "  /* jupyter's `normalize.less` sets `[hidden] { display: none; }`\n",
       "     but bootstrap.min.css set `[hidden] { display: none !important; }`\n",
       "     so we also need the `!important` here to be able to override the\n",
       "     default hidden behavior on the sphinx rendered scikit-learn.org.\n",
       "     See: https://github.com/scikit-learn/scikit-learn/issues/21755 */\n",
       "  display: inline-block !important;\n",
       "  position: relative;\n",
       "}\n",
       "\n",
       "#sk-container-id-1 div.sk-text-repr-fallback {\n",
       "  display: none;\n",
       "}\n",
       "\n",
       "div.sk-parallel-item,\n",
       "div.sk-serial,\n",
       "div.sk-item {\n",
       "  /* draw centered vertical line to link estimators */\n",
       "  background-image: linear-gradient(var(--sklearn-color-text-on-default-background), var(--sklearn-color-text-on-default-background));\n",
       "  background-size: 2px 100%;\n",
       "  background-repeat: no-repeat;\n",
       "  background-position: center center;\n",
       "}\n",
       "\n",
       "/* Parallel-specific style estimator block */\n",
       "\n",
       "#sk-container-id-1 div.sk-parallel-item::after {\n",
       "  content: \"\";\n",
       "  width: 100%;\n",
       "  border-bottom: 2px solid var(--sklearn-color-text-on-default-background);\n",
       "  flex-grow: 1;\n",
       "}\n",
       "\n",
       "#sk-container-id-1 div.sk-parallel {\n",
       "  display: flex;\n",
       "  align-items: stretch;\n",
       "  justify-content: center;\n",
       "  background-color: var(--sklearn-color-background);\n",
       "  position: relative;\n",
       "}\n",
       "\n",
       "#sk-container-id-1 div.sk-parallel-item {\n",
       "  display: flex;\n",
       "  flex-direction: column;\n",
       "}\n",
       "\n",
       "#sk-container-id-1 div.sk-parallel-item:first-child::after {\n",
       "  align-self: flex-end;\n",
       "  width: 50%;\n",
       "}\n",
       "\n",
       "#sk-container-id-1 div.sk-parallel-item:last-child::after {\n",
       "  align-self: flex-start;\n",
       "  width: 50%;\n",
       "}\n",
       "\n",
       "#sk-container-id-1 div.sk-parallel-item:only-child::after {\n",
       "  width: 0;\n",
       "}\n",
       "\n",
       "/* Serial-specific style estimator block */\n",
       "\n",
       "#sk-container-id-1 div.sk-serial {\n",
       "  display: flex;\n",
       "  flex-direction: column;\n",
       "  align-items: center;\n",
       "  background-color: var(--sklearn-color-background);\n",
       "  padding-right: 1em;\n",
       "  padding-left: 1em;\n",
       "}\n",
       "\n",
       "\n",
       "/* Toggleable style: style used for estimator/Pipeline/ColumnTransformer box that is\n",
       "clickable and can be expanded/collapsed.\n",
       "- Pipeline and ColumnTransformer use this feature and define the default style\n",
       "- Estimators will overwrite some part of the style using the `sk-estimator` class\n",
       "*/\n",
       "\n",
       "/* Pipeline and ColumnTransformer style (default) */\n",
       "\n",
       "#sk-container-id-1 div.sk-toggleable {\n",
       "  /* Default theme specific background. It is overwritten whether we have a\n",
       "  specific estimator or a Pipeline/ColumnTransformer */\n",
       "  background-color: var(--sklearn-color-background);\n",
       "}\n",
       "\n",
       "/* Toggleable label */\n",
       "#sk-container-id-1 label.sk-toggleable__label {\n",
       "  cursor: pointer;\n",
       "  display: flex;\n",
       "  width: 100%;\n",
       "  margin-bottom: 0;\n",
       "  padding: 0.5em;\n",
       "  box-sizing: border-box;\n",
       "  text-align: center;\n",
       "  align-items: start;\n",
       "  justify-content: space-between;\n",
       "  gap: 0.5em;\n",
       "}\n",
       "\n",
       "#sk-container-id-1 label.sk-toggleable__label .caption {\n",
       "  font-size: 0.6rem;\n",
       "  font-weight: lighter;\n",
       "  color: var(--sklearn-color-text-muted);\n",
       "}\n",
       "\n",
       "#sk-container-id-1 label.sk-toggleable__label-arrow:before {\n",
       "  /* Arrow on the left of the label */\n",
       "  content: \"▸\";\n",
       "  float: left;\n",
       "  margin-right: 0.25em;\n",
       "  color: var(--sklearn-color-icon);\n",
       "}\n",
       "\n",
       "#sk-container-id-1 label.sk-toggleable__label-arrow:hover:before {\n",
       "  color: var(--sklearn-color-text);\n",
       "}\n",
       "\n",
       "/* Toggleable content - dropdown */\n",
       "\n",
       "#sk-container-id-1 div.sk-toggleable__content {\n",
       "  max-height: 0;\n",
       "  max-width: 0;\n",
       "  overflow: hidden;\n",
       "  text-align: left;\n",
       "  /* unfitted */\n",
       "  background-color: var(--sklearn-color-unfitted-level-0);\n",
       "}\n",
       "\n",
       "#sk-container-id-1 div.sk-toggleable__content.fitted {\n",
       "  /* fitted */\n",
       "  background-color: var(--sklearn-color-fitted-level-0);\n",
       "}\n",
       "\n",
       "#sk-container-id-1 div.sk-toggleable__content pre {\n",
       "  margin: 0.2em;\n",
       "  border-radius: 0.25em;\n",
       "  color: var(--sklearn-color-text);\n",
       "  /* unfitted */\n",
       "  background-color: var(--sklearn-color-unfitted-level-0);\n",
       "}\n",
       "\n",
       "#sk-container-id-1 div.sk-toggleable__content.fitted pre {\n",
       "  /* unfitted */\n",
       "  background-color: var(--sklearn-color-fitted-level-0);\n",
       "}\n",
       "\n",
       "#sk-container-id-1 input.sk-toggleable__control:checked~div.sk-toggleable__content {\n",
       "  /* Expand drop-down */\n",
       "  max-height: 200px;\n",
       "  max-width: 100%;\n",
       "  overflow: auto;\n",
       "}\n",
       "\n",
       "#sk-container-id-1 input.sk-toggleable__control:checked~label.sk-toggleable__label-arrow:before {\n",
       "  content: \"▾\";\n",
       "}\n",
       "\n",
       "/* Pipeline/ColumnTransformer-specific style */\n",
       "\n",
       "#sk-container-id-1 div.sk-label input.sk-toggleable__control:checked~label.sk-toggleable__label {\n",
       "  color: var(--sklearn-color-text);\n",
       "  background-color: var(--sklearn-color-unfitted-level-2);\n",
       "}\n",
       "\n",
       "#sk-container-id-1 div.sk-label.fitted input.sk-toggleable__control:checked~label.sk-toggleable__label {\n",
       "  background-color: var(--sklearn-color-fitted-level-2);\n",
       "}\n",
       "\n",
       "/* Estimator-specific style */\n",
       "\n",
       "/* Colorize estimator box */\n",
       "#sk-container-id-1 div.sk-estimator input.sk-toggleable__control:checked~label.sk-toggleable__label {\n",
       "  /* unfitted */\n",
       "  background-color: var(--sklearn-color-unfitted-level-2);\n",
       "}\n",
       "\n",
       "#sk-container-id-1 div.sk-estimator.fitted input.sk-toggleable__control:checked~label.sk-toggleable__label {\n",
       "  /* fitted */\n",
       "  background-color: var(--sklearn-color-fitted-level-2);\n",
       "}\n",
       "\n",
       "#sk-container-id-1 div.sk-label label.sk-toggleable__label,\n",
       "#sk-container-id-1 div.sk-label label {\n",
       "  /* The background is the default theme color */\n",
       "  color: var(--sklearn-color-text-on-default-background);\n",
       "}\n",
       "\n",
       "/* On hover, darken the color of the background */\n",
       "#sk-container-id-1 div.sk-label:hover label.sk-toggleable__label {\n",
       "  color: var(--sklearn-color-text);\n",
       "  background-color: var(--sklearn-color-unfitted-level-2);\n",
       "}\n",
       "\n",
       "/* Label box, darken color on hover, fitted */\n",
       "#sk-container-id-1 div.sk-label.fitted:hover label.sk-toggleable__label.fitted {\n",
       "  color: var(--sklearn-color-text);\n",
       "  background-color: var(--sklearn-color-fitted-level-2);\n",
       "}\n",
       "\n",
       "/* Estimator label */\n",
       "\n",
       "#sk-container-id-1 div.sk-label label {\n",
       "  font-family: monospace;\n",
       "  font-weight: bold;\n",
       "  display: inline-block;\n",
       "  line-height: 1.2em;\n",
       "}\n",
       "\n",
       "#sk-container-id-1 div.sk-label-container {\n",
       "  text-align: center;\n",
       "}\n",
       "\n",
       "/* Estimator-specific */\n",
       "#sk-container-id-1 div.sk-estimator {\n",
       "  font-family: monospace;\n",
       "  border: 1px dotted var(--sklearn-color-border-box);\n",
       "  border-radius: 0.25em;\n",
       "  box-sizing: border-box;\n",
       "  margin-bottom: 0.5em;\n",
       "  /* unfitted */\n",
       "  background-color: var(--sklearn-color-unfitted-level-0);\n",
       "}\n",
       "\n",
       "#sk-container-id-1 div.sk-estimator.fitted {\n",
       "  /* fitted */\n",
       "  background-color: var(--sklearn-color-fitted-level-0);\n",
       "}\n",
       "\n",
       "/* on hover */\n",
       "#sk-container-id-1 div.sk-estimator:hover {\n",
       "  /* unfitted */\n",
       "  background-color: var(--sklearn-color-unfitted-level-2);\n",
       "}\n",
       "\n",
       "#sk-container-id-1 div.sk-estimator.fitted:hover {\n",
       "  /* fitted */\n",
       "  background-color: var(--sklearn-color-fitted-level-2);\n",
       "}\n",
       "\n",
       "/* Specification for estimator info (e.g. \"i\" and \"?\") */\n",
       "\n",
       "/* Common style for \"i\" and \"?\" */\n",
       "\n",
       ".sk-estimator-doc-link,\n",
       "a:link.sk-estimator-doc-link,\n",
       "a:visited.sk-estimator-doc-link {\n",
       "  float: right;\n",
       "  font-size: smaller;\n",
       "  line-height: 1em;\n",
       "  font-family: monospace;\n",
       "  background-color: var(--sklearn-color-background);\n",
       "  border-radius: 1em;\n",
       "  height: 1em;\n",
       "  width: 1em;\n",
       "  text-decoration: none !important;\n",
       "  margin-left: 0.5em;\n",
       "  text-align: center;\n",
       "  /* unfitted */\n",
       "  border: var(--sklearn-color-unfitted-level-1) 1pt solid;\n",
       "  color: var(--sklearn-color-unfitted-level-1);\n",
       "}\n",
       "\n",
       ".sk-estimator-doc-link.fitted,\n",
       "a:link.sk-estimator-doc-link.fitted,\n",
       "a:visited.sk-estimator-doc-link.fitted {\n",
       "  /* fitted */\n",
       "  border: var(--sklearn-color-fitted-level-1) 1pt solid;\n",
       "  color: var(--sklearn-color-fitted-level-1);\n",
       "}\n",
       "\n",
       "/* On hover */\n",
       "div.sk-estimator:hover .sk-estimator-doc-link:hover,\n",
       ".sk-estimator-doc-link:hover,\n",
       "div.sk-label-container:hover .sk-estimator-doc-link:hover,\n",
       ".sk-estimator-doc-link:hover {\n",
       "  /* unfitted */\n",
       "  background-color: var(--sklearn-color-unfitted-level-3);\n",
       "  color: var(--sklearn-color-background);\n",
       "  text-decoration: none;\n",
       "}\n",
       "\n",
       "div.sk-estimator.fitted:hover .sk-estimator-doc-link.fitted:hover,\n",
       ".sk-estimator-doc-link.fitted:hover,\n",
       "div.sk-label-container:hover .sk-estimator-doc-link.fitted:hover,\n",
       ".sk-estimator-doc-link.fitted:hover {\n",
       "  /* fitted */\n",
       "  background-color: var(--sklearn-color-fitted-level-3);\n",
       "  color: var(--sklearn-color-background);\n",
       "  text-decoration: none;\n",
       "}\n",
       "\n",
       "/* Span, style for the box shown on hovering the info icon */\n",
       ".sk-estimator-doc-link span {\n",
       "  display: none;\n",
       "  z-index: 9999;\n",
       "  position: relative;\n",
       "  font-weight: normal;\n",
       "  right: .2ex;\n",
       "  padding: .5ex;\n",
       "  margin: .5ex;\n",
       "  width: min-content;\n",
       "  min-width: 20ex;\n",
       "  max-width: 50ex;\n",
       "  color: var(--sklearn-color-text);\n",
       "  box-shadow: 2pt 2pt 4pt #999;\n",
       "  /* unfitted */\n",
       "  background: var(--sklearn-color-unfitted-level-0);\n",
       "  border: .5pt solid var(--sklearn-color-unfitted-level-3);\n",
       "}\n",
       "\n",
       ".sk-estimator-doc-link.fitted span {\n",
       "  /* fitted */\n",
       "  background: var(--sklearn-color-fitted-level-0);\n",
       "  border: var(--sklearn-color-fitted-level-3);\n",
       "}\n",
       "\n",
       ".sk-estimator-doc-link:hover span {\n",
       "  display: block;\n",
       "}\n",
       "\n",
       "/* \"?\"-specific style due to the `<a>` HTML tag */\n",
       "\n",
       "#sk-container-id-1 a.estimator_doc_link {\n",
       "  float: right;\n",
       "  font-size: 1rem;\n",
       "  line-height: 1em;\n",
       "  font-family: monospace;\n",
       "  background-color: var(--sklearn-color-background);\n",
       "  border-radius: 1rem;\n",
       "  height: 1rem;\n",
       "  width: 1rem;\n",
       "  text-decoration: none;\n",
       "  /* unfitted */\n",
       "  color: var(--sklearn-color-unfitted-level-1);\n",
       "  border: var(--sklearn-color-unfitted-level-1) 1pt solid;\n",
       "}\n",
       "\n",
       "#sk-container-id-1 a.estimator_doc_link.fitted {\n",
       "  /* fitted */\n",
       "  border: var(--sklearn-color-fitted-level-1) 1pt solid;\n",
       "  color: var(--sklearn-color-fitted-level-1);\n",
       "}\n",
       "\n",
       "/* On hover */\n",
       "#sk-container-id-1 a.estimator_doc_link:hover {\n",
       "  /* unfitted */\n",
       "  background-color: var(--sklearn-color-unfitted-level-3);\n",
       "  color: var(--sklearn-color-background);\n",
       "  text-decoration: none;\n",
       "}\n",
       "\n",
       "#sk-container-id-1 a.estimator_doc_link.fitted:hover {\n",
       "  /* fitted */\n",
       "  background-color: var(--sklearn-color-fitted-level-3);\n",
       "}\n",
       "</style><div id=\"sk-container-id-1\" class=\"sk-top-container\"><div class=\"sk-text-repr-fallback\"><pre>LinearRegression()</pre><b>In a Jupyter environment, please rerun this cell to show the HTML representation or trust the notebook. <br />On GitHub, the HTML representation is unable to render, please try loading this page with nbviewer.org.</b></div><div class=\"sk-container\" hidden><div class=\"sk-item\"><div class=\"sk-estimator fitted sk-toggleable\"><input class=\"sk-toggleable__control sk-hidden--visually\" id=\"sk-estimator-id-1\" type=\"checkbox\" checked><label for=\"sk-estimator-id-1\" class=\"sk-toggleable__label fitted sk-toggleable__label-arrow\"><div><div>LinearRegression</div></div><div><a class=\"sk-estimator-doc-link fitted\" rel=\"noreferrer\" target=\"_blank\" href=\"https://scikit-learn.org/1.6/modules/generated/sklearn.linear_model.LinearRegression.html\">?<span>Documentation for LinearRegression</span></a><span class=\"sk-estimator-doc-link fitted\">i<span>Fitted</span></span></div></label><div class=\"sk-toggleable__content fitted\"><pre>LinearRegression()</pre></div> </div></div></div></div>"
      ],
      "text/plain": [
       "LinearRegression()"
      ]
     },
     "execution_count": 58,
     "metadata": {},
     "output_type": "execute_result"
    }
   ],
   "source": [
    "linear_model"
   ]
  },
  {
   "cell_type": "code",
   "execution_count": 59,
   "metadata": {},
   "outputs": [],
   "source": [
    "y_pred=linear_model.predict(x_test)"
   ]
  },
  {
   "cell_type": "code",
   "execution_count": 60,
   "metadata": {},
   "outputs": [
    {
     "data": {
      "text/plain": [
       "array([-1.4306978 ,  0.29950349, -0.72084616, -1.59895339, -0.72334724,\n",
       "        1.33389382, -0.03631607,  0.29570585, -0.04551962,  1.49079734,\n",
       "        0.82310118,  1.14418   , -0.38328329,  1.33116773, -1.3984358 ,\n",
       "       -0.54102062,  0.83030204,  1.17213856, -0.02480126,  0.63248725,\n",
       "       -0.21755265,  1.33018388,  1.15791145,  1.1526166 , -0.2099669 ,\n",
       "       -0.37143915,  1.15808573, -1.09339549,  0.14091668,  1.00201028,\n",
       "        0.11947417,  0.28898413, -0.02724954, -0.20884316, -0.02494655,\n",
       "       -0.91882585, -1.60190199,  1.48950737, -0.23361646, -0.36225907,\n",
       "        1.13953537,  0.62224319,  1.16486106, -1.26136129,  1.00266042,\n",
       "       -0.92367344, -0.72694041, -0.72586168, -1.43064949, -1.10137021,\n",
       "        0.2917231 ,  1.49255788, -0.91556981, -0.05011831, -0.3774518 ,\n",
       "        1.69470916, -1.11029187,  0.44741267,  0.80873119,  0.12372379,\n",
       "        0.61801806,  0.81021771,  0.62390637,  1.15411241, -0.21646006,\n",
       "        0.11696893, -0.37884813, -0.37472579, -1.24322201,  1.32686931,\n",
       "        0.63249638,  1.33313997, -0.71128591, -0.0482344 , -1.59517592,\n",
       "        1.67678524,  1.00239529, -0.53213319, -0.92580833,  1.166315  ,\n",
       "       -0.9042448 ,  0.9970784 , -0.22113703, -0.70399396, -0.38143689,\n",
       "        0.27001225,  0.62400804, -0.05349875,  1.69273106, -0.01132264,\n",
       "        0.13064767,  1.15737559,  0.61613722, -1.10813582, -0.04970729,\n",
       "        0.45888593, -0.72369526,  1.51115239,  1.16272305, -0.92841629])"
      ]
     },
     "execution_count": 60,
     "metadata": {},
     "output_type": "execute_result"
    }
   ],
   "source": [
    "y_pred"
   ]
  },
  {
   "cell_type": "code",
   "execution_count": 61,
   "metadata": {},
   "outputs": [
    {
     "data": {
      "text/plain": [
       "0     -0.571772\n",
       "1      1.164026\n",
       "2      0.643287\n",
       "3      0.296127\n",
       "4     -1.266091\n",
       "         ...   \n",
       "995   -0.398192\n",
       "996   -0.571772\n",
       "997    0.643287\n",
       "998    1.511186\n",
       "999   -1.613251\n",
       "Name: Region_and_Sales_Rep, Length: 1000, dtype: float64"
      ]
     },
     "execution_count": 61,
     "metadata": {},
     "output_type": "execute_result"
    }
   ],
   "source": [
    "y"
   ]
  },
  {
   "cell_type": "code",
   "execution_count": 62,
   "metadata": {},
   "outputs": [],
   "source": [
    "mse_linear=mean_squared_error(y_test,y_pred)\n",
    "r2_linear=r2_score(y_test,y_pred)"
   ]
  },
  {
   "cell_type": "code",
   "execution_count": 63,
   "metadata": {},
   "outputs": [
    {
     "name": "stdout",
     "output_type": "stream",
     "text": [
      "0.0002860427235338477\n",
      "0.9996568868058787\n"
     ]
    }
   ],
   "source": [
    "print(mse_linear)\n",
    "print(r2_linear)"
   ]
  },
  {
   "cell_type": "markdown",
   "metadata": {},
   "source": [
    "# KLIB bn model yaratamiz"
   ]
  },
  {
   "cell_type": "code",
   "execution_count": 10,
   "metadata": {},
   "outputs": [
    {
     "name": "stdout",
     "output_type": "stream",
     "text": [
      "Shape of cleaned data: (1000, 14) - Remaining NAs: 19\n",
      "\n",
      "\n",
      "Dropped rows: 0\n",
      "     of which 0 duplicates. (Rows (first 150 shown): [])\n",
      "\n",
      "Dropped columns: 0\n",
      "     of which 0 single valued.     Columns: []\n",
      "Dropped missing values: 0\n",
      "Reduced memory by at least: 0.07 MB (-63.64%)\n",
      "\n"
     ]
    }
   ],
   "source": [
    "df=klib.data_cleaning(df)"
   ]
  },
  {
   "cell_type": "code",
   "execution_count": 25,
   "metadata": {},
   "outputs": [
    {
     "name": "stdout",
     "output_type": "stream",
     "text": [
      "<class 'pandas.core.frame.DataFrame'>\n",
      "RangeIndex: 1000 entries, 0 to 999\n",
      "Data columns (total 14 columns):\n",
      " #   Column                Non-Null Count  Dtype   \n",
      "---  ------                --------------  -----   \n",
      " 0   product_id            999 non-null    float32 \n",
      " 1   sale_date             998 non-null    string  \n",
      " 2   sales_rep             999 non-null    category\n",
      " 3   region                997 non-null    category\n",
      " 4   sales_amount          999 non-null    float32 \n",
      " 5   quantity_sold         1000 non-null   int8    \n",
      " 6   product_category      999 non-null    category\n",
      " 7   unit_cost             998 non-null    float32 \n",
      " 8   unit_price            998 non-null    float32 \n",
      " 9   customer_type         998 non-null    category\n",
      " 10  discount              1000 non-null   float32 \n",
      " 11  payment_method        999 non-null    category\n",
      " 12  sales_channel         998 non-null    category\n",
      " 13  region_and_sales_rep  999 non-null    category\n",
      "dtypes: category(7), float32(5), int8(1), string(1)\n",
      "memory usage: 37.0 KB\n"
     ]
    }
   ],
   "source": [
    "df.info()\n"
   ]
  },
  {
   "cell_type": "code",
   "execution_count": 14,
   "metadata": {},
   "outputs": [
    {
     "name": "stdout",
     "output_type": "stream",
     "text": [
      "Collecting tabulate\n",
      "  Downloading tabulate-0.9.0-py3-none-any.whl.metadata (34 kB)\n",
      "Downloading tabulate-0.9.0-py3-none-any.whl (35 kB)\n",
      "Installing collected packages: tabulate\n",
      "Successfully installed tabulate-0.9.0\n",
      "Note: you may need to restart the kernel to use updated packages.\n"
     ]
    },
    {
     "name": "stderr",
     "output_type": "stream",
     "text": [
      "  WARNING: The script tabulate.exe is installed in 'c:\\Users\\User\\AppData\\Local\\Programs\\Python\\Python313\\Scripts' which is not on PATH.\n",
      "  Consider adding this directory to PATH or, if you prefer to suppress this warning, use --no-warn-script-location.\n",
      "\n",
      "[notice] A new release of pip is available: 24.3.1 -> 25.0.1\n",
      "[notice] To update, run: python.exe -m pip install --upgrade pip\n"
     ]
    }
   ],
   "source": [
    "pip install tabulate"
   ]
  },
  {
   "cell_type": "code",
   "execution_count": 15,
   "metadata": {},
   "outputs": [],
   "source": [
    "from tabulate import tabulate"
   ]
  },
  {
   "cell_type": "code",
   "execution_count": 20,
   "metadata": {},
   "outputs": [],
   "source": [
    "data=[\n",
    "    ['taxi',15,5000 ],\n",
    "    ['scooter',20,2000],\n",
    "    ['bycicle',30,'free']\n",
    "]\n",
    "headers=['transport type','time','price']"
   ]
  },
  {
   "cell_type": "code",
   "execution_count": null,
   "metadata": {},
   "outputs": [],
   "source": [
    "table=tabulate(data,headers,tablefmt='grid')    # table format grid qilamiz"
   ]
  },
  {
   "cell_type": "code",
   "execution_count": 22,
   "metadata": {},
   "outputs": [
    {
     "name": "stdout",
     "output_type": "stream",
     "text": [
      "+------------------+--------+---------+\n",
      "| transport type   |   time | price   |\n",
      "+==================+========+=========+\n",
      "| taxi             |     15 | 5000    |\n",
      "+------------------+--------+---------+\n",
      "| scooter          |     20 | 2000    |\n",
      "+------------------+--------+---------+\n",
      "| bycicle          |     30 | free    |\n",
      "+------------------+--------+---------+\n"
     ]
    }
   ],
   "source": [
    "print(table)"
   ]
  }
 ],
 "metadata": {
  "kernelspec": {
   "display_name": "Python 3",
   "language": "python",
   "name": "python3"
  },
  "language_info": {
   "codemirror_mode": {
    "name": "ipython",
    "version": 3
   },
   "file_extension": ".py",
   "mimetype": "text/x-python",
   "name": "python",
   "nbconvert_exporter": "python",
   "pygments_lexer": "ipython3",
   "version": "3.13.1"
  }
 },
 "nbformat": 4,
 "nbformat_minor": 2
}
