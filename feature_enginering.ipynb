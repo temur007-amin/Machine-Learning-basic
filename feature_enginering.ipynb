{
 "cells": [
  {
   "cell_type": "markdown",
   "metadata": {},
   "source": [
    "# Future Enginering"
   ]
  },
  {
   "cell_type": "code",
   "execution_count": 1,
   "metadata": {},
   "outputs": [],
   "source": [
    "import pandas as pd"
   ]
  },
  {
   "cell_type": "code",
   "execution_count": 3,
   "metadata": {},
   "outputs": [],
   "source": [
    "df=pd.read_csv('sales_data.csv')"
   ]
  },
  {
   "cell_type": "code",
   "execution_count": 4,
   "metadata": {},
   "outputs": [
    {
     "name": "stdout",
     "output_type": "stream",
     "text": [
      "<class 'pandas.core.frame.DataFrame'>\n",
      "RangeIndex: 1000 entries, 0 to 999\n",
      "Data columns (total 14 columns):\n",
      " #   Column                Non-Null Count  Dtype  \n",
      "---  ------                --------------  -----  \n",
      " 0   Product_ID            1000 non-null   int64  \n",
      " 1   Sale_Date             1000 non-null   object \n",
      " 2   Sales_Rep             1000 non-null   object \n",
      " 3   Region                1000 non-null   object \n",
      " 4   Sales_Amount          1000 non-null   float64\n",
      " 5   Quantity_Sold         1000 non-null   int64  \n",
      " 6   Product_Category      1000 non-null   object \n",
      " 7   Unit_Cost             1000 non-null   float64\n",
      " 8   Unit_Price            1000 non-null   float64\n",
      " 9   Customer_Type         1000 non-null   object \n",
      " 10  Discount              1000 non-null   float64\n",
      " 11  Payment_Method        1000 non-null   object \n",
      " 12  Sales_Channel         1000 non-null   object \n",
      " 13  Region_and_Sales_Rep  1000 non-null   object \n",
      "dtypes: float64(4), int64(2), object(8)\n",
      "memory usage: 109.5+ KB\n"
     ]
    }
   ],
   "source": [
    "df.info()"
   ]
  },
  {
   "cell_type": "code",
   "execution_count": 5,
   "metadata": {},
   "outputs": [
    {
     "data": {
      "text/html": [
       "<div>\n",
       "<style scoped>\n",
       "    .dataframe tbody tr th:only-of-type {\n",
       "        vertical-align: middle;\n",
       "    }\n",
       "\n",
       "    .dataframe tbody tr th {\n",
       "        vertical-align: top;\n",
       "    }\n",
       "\n",
       "    .dataframe thead th {\n",
       "        text-align: right;\n",
       "    }\n",
       "</style>\n",
       "<table border=\"1\" class=\"dataframe\">\n",
       "  <thead>\n",
       "    <tr style=\"text-align: right;\">\n",
       "      <th></th>\n",
       "      <th>Product_ID</th>\n",
       "      <th>Sale_Date</th>\n",
       "      <th>Sales_Rep</th>\n",
       "      <th>Region</th>\n",
       "      <th>Sales_Amount</th>\n",
       "      <th>Quantity_Sold</th>\n",
       "      <th>Product_Category</th>\n",
       "      <th>Unit_Cost</th>\n",
       "      <th>Unit_Price</th>\n",
       "      <th>Customer_Type</th>\n",
       "      <th>Discount</th>\n",
       "      <th>Payment_Method</th>\n",
       "      <th>Sales_Channel</th>\n",
       "      <th>Region_and_Sales_Rep</th>\n",
       "    </tr>\n",
       "  </thead>\n",
       "  <tbody>\n",
       "    <tr>\n",
       "      <th>0</th>\n",
       "      <td>1052</td>\n",
       "      <td>2023-02-03</td>\n",
       "      <td>Bob</td>\n",
       "      <td>North</td>\n",
       "      <td>5053.97</td>\n",
       "      <td>18</td>\n",
       "      <td>Furniture</td>\n",
       "      <td>152.75</td>\n",
       "      <td>267.22</td>\n",
       "      <td>Returning</td>\n",
       "      <td>0.09</td>\n",
       "      <td>Cash</td>\n",
       "      <td>Online</td>\n",
       "      <td>North-Bob</td>\n",
       "    </tr>\n",
       "    <tr>\n",
       "      <th>1</th>\n",
       "      <td>1093</td>\n",
       "      <td>2023-04-21</td>\n",
       "      <td>Bob</td>\n",
       "      <td>West</td>\n",
       "      <td>4384.02</td>\n",
       "      <td>17</td>\n",
       "      <td>Furniture</td>\n",
       "      <td>3816.39</td>\n",
       "      <td>4209.44</td>\n",
       "      <td>Returning</td>\n",
       "      <td>0.11</td>\n",
       "      <td>Cash</td>\n",
       "      <td>Retail</td>\n",
       "      <td>West-Bob</td>\n",
       "    </tr>\n",
       "    <tr>\n",
       "      <th>2</th>\n",
       "      <td>1015</td>\n",
       "      <td>2023-09-21</td>\n",
       "      <td>David</td>\n",
       "      <td>South</td>\n",
       "      <td>4631.23</td>\n",
       "      <td>30</td>\n",
       "      <td>Food</td>\n",
       "      <td>261.56</td>\n",
       "      <td>371.40</td>\n",
       "      <td>Returning</td>\n",
       "      <td>0.20</td>\n",
       "      <td>Bank Transfer</td>\n",
       "      <td>Retail</td>\n",
       "      <td>South-David</td>\n",
       "    </tr>\n",
       "    <tr>\n",
       "      <th>3</th>\n",
       "      <td>1072</td>\n",
       "      <td>2023-08-24</td>\n",
       "      <td>Bob</td>\n",
       "      <td>South</td>\n",
       "      <td>2167.94</td>\n",
       "      <td>39</td>\n",
       "      <td>Clothing</td>\n",
       "      <td>4330.03</td>\n",
       "      <td>4467.75</td>\n",
       "      <td>New</td>\n",
       "      <td>0.02</td>\n",
       "      <td>Credit Card</td>\n",
       "      <td>Retail</td>\n",
       "      <td>South-Bob</td>\n",
       "    </tr>\n",
       "    <tr>\n",
       "      <th>4</th>\n",
       "      <td>1061</td>\n",
       "      <td>2023-03-24</td>\n",
       "      <td>Charlie</td>\n",
       "      <td>East</td>\n",
       "      <td>3750.20</td>\n",
       "      <td>13</td>\n",
       "      <td>Electronics</td>\n",
       "      <td>637.37</td>\n",
       "      <td>692.71</td>\n",
       "      <td>New</td>\n",
       "      <td>0.08</td>\n",
       "      <td>Credit Card</td>\n",
       "      <td>Online</td>\n",
       "      <td>East-Charlie</td>\n",
       "    </tr>\n",
       "  </tbody>\n",
       "</table>\n",
       "</div>"
      ],
      "text/plain": [
       "   Product_ID   Sale_Date Sales_Rep Region  Sales_Amount  Quantity_Sold  \\\n",
       "0        1052  2023-02-03       Bob  North       5053.97             18   \n",
       "1        1093  2023-04-21       Bob   West       4384.02             17   \n",
       "2        1015  2023-09-21     David  South       4631.23             30   \n",
       "3        1072  2023-08-24       Bob  South       2167.94             39   \n",
       "4        1061  2023-03-24   Charlie   East       3750.20             13   \n",
       "\n",
       "  Product_Category  Unit_Cost  Unit_Price Customer_Type  Discount  \\\n",
       "0        Furniture     152.75      267.22     Returning      0.09   \n",
       "1        Furniture    3816.39     4209.44     Returning      0.11   \n",
       "2             Food     261.56      371.40     Returning      0.20   \n",
       "3         Clothing    4330.03     4467.75           New      0.02   \n",
       "4      Electronics     637.37      692.71           New      0.08   \n",
       "\n",
       "  Payment_Method Sales_Channel Region_and_Sales_Rep  \n",
       "0           Cash        Online            North-Bob  \n",
       "1           Cash        Retail             West-Bob  \n",
       "2  Bank Transfer        Retail          South-David  \n",
       "3    Credit Card        Retail            South-Bob  \n",
       "4    Credit Card        Online         East-Charlie  "
      ]
     },
     "execution_count": 5,
     "metadata": {},
     "output_type": "execute_result"
    }
   ],
   "source": [
    "df.head()"
   ]
  },
  {
   "cell_type": "markdown",
   "metadata": {},
   "source": [
    "# Mutual Information score"
   ]
  },
  {
   "cell_type": "code",
   "execution_count": 6,
   "metadata": {},
   "outputs": [
    {
     "name": "stdout",
     "output_type": "stream",
     "text": [
      "<class 'pandas.core.frame.DataFrame'>\n",
      "RangeIndex: 1000 entries, 0 to 999\n",
      "Data columns (total 14 columns):\n",
      " #   Column                Non-Null Count  Dtype  \n",
      "---  ------                --------------  -----  \n",
      " 0   Product_ID            1000 non-null   int64  \n",
      " 1   Sale_Date             1000 non-null   object \n",
      " 2   Sales_Rep             1000 non-null   object \n",
      " 3   Region                1000 non-null   object \n",
      " 4   Sales_Amount          1000 non-null   float64\n",
      " 5   Quantity_Sold         1000 non-null   int64  \n",
      " 6   Product_Category      1000 non-null   object \n",
      " 7   Unit_Cost             1000 non-null   float64\n",
      " 8   Unit_Price            1000 non-null   float64\n",
      " 9   Customer_Type         1000 non-null   object \n",
      " 10  Discount              1000 non-null   float64\n",
      " 11  Payment_Method        1000 non-null   object \n",
      " 12  Sales_Channel         1000 non-null   object \n",
      " 13  Region_and_Sales_Rep  1000 non-null   object \n",
      "dtypes: float64(4), int64(2), object(8)\n",
      "memory usage: 109.5+ KB\n"
     ]
    }
   ],
   "source": [
    "df.info()"
   ]
  },
  {
   "cell_type": "code",
   "execution_count": 7,
   "metadata": {},
   "outputs": [],
   "source": [
    "from sklearn.preprocessing import LabelEncoder"
   ]
  },
  {
   "cell_type": "code",
   "execution_count": 8,
   "metadata": {},
   "outputs": [],
   "source": [
    "encoder=LabelEncoder()"
   ]
  },
  {
   "cell_type": "code",
   "execution_count": 9,
   "metadata": {},
   "outputs": [],
   "source": [
    "cat_col=df.select_dtypes(include='object').columns"
   ]
  },
  {
   "cell_type": "code",
   "execution_count": 10,
   "metadata": {},
   "outputs": [
    {
     "data": {
      "text/plain": [
       "Index(['Sale_Date', 'Sales_Rep', 'Region', 'Product_Category', 'Customer_Type',\n",
       "       'Payment_Method', 'Sales_Channel', 'Region_and_Sales_Rep'],\n",
       "      dtype='object')"
      ]
     },
     "execution_count": 10,
     "metadata": {},
     "output_type": "execute_result"
    }
   ],
   "source": [
    "cat_col"
   ]
  },
  {
   "cell_type": "code",
   "execution_count": 12,
   "metadata": {},
   "outputs": [],
   "source": [
    "df[cat_col]=df[cat_col].apply(encoder.fit_transform)"
   ]
  },
  {
   "cell_type": "code",
   "execution_count": 13,
   "metadata": {},
   "outputs": [
    {
     "name": "stdout",
     "output_type": "stream",
     "text": [
      "<class 'pandas.core.frame.DataFrame'>\n",
      "RangeIndex: 1000 entries, 0 to 999\n",
      "Data columns (total 14 columns):\n",
      " #   Column                Non-Null Count  Dtype  \n",
      "---  ------                --------------  -----  \n",
      " 0   Product_ID            1000 non-null   int64  \n",
      " 1   Sale_Date             1000 non-null   int64  \n",
      " 2   Sales_Rep             1000 non-null   int64  \n",
      " 3   Region                1000 non-null   int64  \n",
      " 4   Sales_Amount          1000 non-null   float64\n",
      " 5   Quantity_Sold         1000 non-null   int64  \n",
      " 6   Product_Category      1000 non-null   int64  \n",
      " 7   Unit_Cost             1000 non-null   float64\n",
      " 8   Unit_Price            1000 non-null   float64\n",
      " 9   Customer_Type         1000 non-null   int64  \n",
      " 10  Discount              1000 non-null   float64\n",
      " 11  Payment_Method        1000 non-null   int64  \n",
      " 12  Sales_Channel         1000 non-null   int64  \n",
      " 13  Region_and_Sales_Rep  1000 non-null   int64  \n",
      "dtypes: float64(4), int64(10)\n",
      "memory usage: 109.5 KB\n"
     ]
    }
   ],
   "source": [
    "df.info()"
   ]
  },
  {
   "cell_type": "code",
   "execution_count": 15,
   "metadata": {},
   "outputs": [],
   "source": [
    "x=df.drop(columns=['Region_and_Sales_Rep'])"
   ]
  },
  {
   "cell_type": "code",
   "execution_count": 16,
   "metadata": {},
   "outputs": [
    {
     "data": {
      "text/html": [
       "<div>\n",
       "<style scoped>\n",
       "    .dataframe tbody tr th:only-of-type {\n",
       "        vertical-align: middle;\n",
       "    }\n",
       "\n",
       "    .dataframe tbody tr th {\n",
       "        vertical-align: top;\n",
       "    }\n",
       "\n",
       "    .dataframe thead th {\n",
       "        text-align: right;\n",
       "    }\n",
       "</style>\n",
       "<table border=\"1\" class=\"dataframe\">\n",
       "  <thead>\n",
       "    <tr style=\"text-align: right;\">\n",
       "      <th></th>\n",
       "      <th>Product_ID</th>\n",
       "      <th>Sale_Date</th>\n",
       "      <th>Sales_Rep</th>\n",
       "      <th>Region</th>\n",
       "      <th>Sales_Amount</th>\n",
       "      <th>Quantity_Sold</th>\n",
       "      <th>Product_Category</th>\n",
       "      <th>Unit_Cost</th>\n",
       "      <th>Unit_Price</th>\n",
       "      <th>Customer_Type</th>\n",
       "      <th>Discount</th>\n",
       "      <th>Payment_Method</th>\n",
       "      <th>Sales_Channel</th>\n",
       "    </tr>\n",
       "  </thead>\n",
       "  <tbody>\n",
       "    <tr>\n",
       "      <th>0</th>\n",
       "      <td>1052</td>\n",
       "      <td>31</td>\n",
       "      <td>1</td>\n",
       "      <td>1</td>\n",
       "      <td>5053.97</td>\n",
       "      <td>18</td>\n",
       "      <td>3</td>\n",
       "      <td>152.75</td>\n",
       "      <td>267.22</td>\n",
       "      <td>1</td>\n",
       "      <td>0.09</td>\n",
       "      <td>1</td>\n",
       "      <td>0</td>\n",
       "    </tr>\n",
       "    <tr>\n",
       "      <th>1</th>\n",
       "      <td>1093</td>\n",
       "      <td>102</td>\n",
       "      <td>1</td>\n",
       "      <td>3</td>\n",
       "      <td>4384.02</td>\n",
       "      <td>17</td>\n",
       "      <td>3</td>\n",
       "      <td>3816.39</td>\n",
       "      <td>4209.44</td>\n",
       "      <td>1</td>\n",
       "      <td>0.11</td>\n",
       "      <td>1</td>\n",
       "      <td>1</td>\n",
       "    </tr>\n",
       "    <tr>\n",
       "      <th>2</th>\n",
       "      <td>1015</td>\n",
       "      <td>246</td>\n",
       "      <td>3</td>\n",
       "      <td>2</td>\n",
       "      <td>4631.23</td>\n",
       "      <td>30</td>\n",
       "      <td>2</td>\n",
       "      <td>261.56</td>\n",
       "      <td>371.40</td>\n",
       "      <td>1</td>\n",
       "      <td>0.20</td>\n",
       "      <td>0</td>\n",
       "      <td>1</td>\n",
       "    </tr>\n",
       "    <tr>\n",
       "      <th>3</th>\n",
       "      <td>1072</td>\n",
       "      <td>222</td>\n",
       "      <td>1</td>\n",
       "      <td>2</td>\n",
       "      <td>2167.94</td>\n",
       "      <td>39</td>\n",
       "      <td>0</td>\n",
       "      <td>4330.03</td>\n",
       "      <td>4467.75</td>\n",
       "      <td>0</td>\n",
       "      <td>0.02</td>\n",
       "      <td>2</td>\n",
       "      <td>1</td>\n",
       "    </tr>\n",
       "    <tr>\n",
       "      <th>4</th>\n",
       "      <td>1061</td>\n",
       "      <td>76</td>\n",
       "      <td>2</td>\n",
       "      <td>0</td>\n",
       "      <td>3750.20</td>\n",
       "      <td>13</td>\n",
       "      <td>1</td>\n",
       "      <td>637.37</td>\n",
       "      <td>692.71</td>\n",
       "      <td>0</td>\n",
       "      <td>0.08</td>\n",
       "      <td>2</td>\n",
       "      <td>0</td>\n",
       "    </tr>\n",
       "    <tr>\n",
       "      <th>...</th>\n",
       "      <td>...</td>\n",
       "      <td>...</td>\n",
       "      <td>...</td>\n",
       "      <td>...</td>\n",
       "      <td>...</td>\n",
       "      <td>...</td>\n",
       "      <td>...</td>\n",
       "      <td>...</td>\n",
       "      <td>...</td>\n",
       "      <td>...</td>\n",
       "      <td>...</td>\n",
       "      <td>...</td>\n",
       "      <td>...</td>\n",
       "    </tr>\n",
       "    <tr>\n",
       "      <th>995</th>\n",
       "      <td>1010</td>\n",
       "      <td>96</td>\n",
       "      <td>2</td>\n",
       "      <td>1</td>\n",
       "      <td>4733.88</td>\n",
       "      <td>4</td>\n",
       "      <td>2</td>\n",
       "      <td>4943.03</td>\n",
       "      <td>5442.15</td>\n",
       "      <td>1</td>\n",
       "      <td>0.29</td>\n",
       "      <td>1</td>\n",
       "      <td>0</td>\n",
       "    </tr>\n",
       "    <tr>\n",
       "      <th>996</th>\n",
       "      <td>1067</td>\n",
       "      <td>234</td>\n",
       "      <td>1</td>\n",
       "      <td>1</td>\n",
       "      <td>4716.36</td>\n",
       "      <td>37</td>\n",
       "      <td>0</td>\n",
       "      <td>1754.32</td>\n",
       "      <td>1856.40</td>\n",
       "      <td>0</td>\n",
       "      <td>0.21</td>\n",
       "      <td>0</td>\n",
       "      <td>1</td>\n",
       "    </tr>\n",
       "    <tr>\n",
       "      <th>997</th>\n",
       "      <td>1018</td>\n",
       "      <td>108</td>\n",
       "      <td>3</td>\n",
       "      <td>2</td>\n",
       "      <td>7629.70</td>\n",
       "      <td>17</td>\n",
       "      <td>0</td>\n",
       "      <td>355.72</td>\n",
       "      <td>438.27</td>\n",
       "      <td>1</td>\n",
       "      <td>0.06</td>\n",
       "      <td>0</td>\n",
       "      <td>0</td>\n",
       "    </tr>\n",
       "    <tr>\n",
       "      <th>998</th>\n",
       "      <td>1100</td>\n",
       "      <td>328</td>\n",
       "      <td>3</td>\n",
       "      <td>3</td>\n",
       "      <td>1629.47</td>\n",
       "      <td>39</td>\n",
       "      <td>1</td>\n",
       "      <td>3685.03</td>\n",
       "      <td>3743.39</td>\n",
       "      <td>0</td>\n",
       "      <td>0.01</td>\n",
       "      <td>0</td>\n",
       "      <td>0</td>\n",
       "    </tr>\n",
       "    <tr>\n",
       "      <th>999</th>\n",
       "      <td>1086</td>\n",
       "      <td>215</td>\n",
       "      <td>0</td>\n",
       "      <td>0</td>\n",
       "      <td>4923.93</td>\n",
       "      <td>48</td>\n",
       "      <td>2</td>\n",
       "      <td>2632.58</td>\n",
       "      <td>2926.68</td>\n",
       "      <td>1</td>\n",
       "      <td>0.14</td>\n",
       "      <td>1</td>\n",
       "      <td>0</td>\n",
       "    </tr>\n",
       "  </tbody>\n",
       "</table>\n",
       "<p>1000 rows × 13 columns</p>\n",
       "</div>"
      ],
      "text/plain": [
       "     Product_ID  Sale_Date  Sales_Rep  Region  Sales_Amount  Quantity_Sold  \\\n",
       "0          1052         31          1       1       5053.97             18   \n",
       "1          1093        102          1       3       4384.02             17   \n",
       "2          1015        246          3       2       4631.23             30   \n",
       "3          1072        222          1       2       2167.94             39   \n",
       "4          1061         76          2       0       3750.20             13   \n",
       "..          ...        ...        ...     ...           ...            ...   \n",
       "995        1010         96          2       1       4733.88              4   \n",
       "996        1067        234          1       1       4716.36             37   \n",
       "997        1018        108          3       2       7629.70             17   \n",
       "998        1100        328          3       3       1629.47             39   \n",
       "999        1086        215          0       0       4923.93             48   \n",
       "\n",
       "     Product_Category  Unit_Cost  Unit_Price  Customer_Type  Discount  \\\n",
       "0                   3     152.75      267.22              1      0.09   \n",
       "1                   3    3816.39     4209.44              1      0.11   \n",
       "2                   2     261.56      371.40              1      0.20   \n",
       "3                   0    4330.03     4467.75              0      0.02   \n",
       "4                   1     637.37      692.71              0      0.08   \n",
       "..                ...        ...         ...            ...       ...   \n",
       "995                 2    4943.03     5442.15              1      0.29   \n",
       "996                 0    1754.32     1856.40              0      0.21   \n",
       "997                 0     355.72      438.27              1      0.06   \n",
       "998                 1    3685.03     3743.39              0      0.01   \n",
       "999                 2    2632.58     2926.68              1      0.14   \n",
       "\n",
       "     Payment_Method  Sales_Channel  \n",
       "0                 1              0  \n",
       "1                 1              1  \n",
       "2                 0              1  \n",
       "3                 2              1  \n",
       "4                 2              0  \n",
       "..              ...            ...  \n",
       "995               1              0  \n",
       "996               0              1  \n",
       "997               0              0  \n",
       "998               0              0  \n",
       "999               1              0  \n",
       "\n",
       "[1000 rows x 13 columns]"
      ]
     },
     "execution_count": 16,
     "metadata": {},
     "output_type": "execute_result"
    }
   ],
   "source": [
    "x"
   ]
  },
  {
   "cell_type": "code",
   "execution_count": 18,
   "metadata": {},
   "outputs": [],
   "source": [
    "y=df['Region_and_Sales_Rep']"
   ]
  },
  {
   "cell_type": "code",
   "execution_count": 19,
   "metadata": {},
   "outputs": [
    {
     "data": {
      "text/plain": [
       "0       6\n",
       "1      16\n",
       "2      13\n",
       "3      11\n",
       "4       2\n",
       "       ..\n",
       "995     7\n",
       "996     6\n",
       "997    13\n",
       "998    18\n",
       "999     0\n",
       "Name: Region_and_Sales_Rep, Length: 1000, dtype: int64"
      ]
     },
     "execution_count": 19,
     "metadata": {},
     "output_type": "execute_result"
    }
   ],
   "source": [
    "y"
   ]
  },
  {
   "cell_type": "code",
   "execution_count": 20,
   "metadata": {},
   "outputs": [],
   "source": [
    "from sklearn.feature_selection import mutual_info_regression"
   ]
  },
  {
   "cell_type": "code",
   "execution_count": 21,
   "metadata": {},
   "outputs": [],
   "source": [
    "mi_score=mutual_info_regression(x,y,discrete_features='auto')"
   ]
  },
  {
   "cell_type": "code",
   "execution_count": 22,
   "metadata": {},
   "outputs": [
    {
     "data": {
      "text/plain": [
       "array([0.00883839, 0.        , 1.58437306, 1.397894  , 0.02219172,\n",
       "       0.01714051, 0.04331574, 0.        , 0.        , 0.00618913,\n",
       "       0.        , 0.        , 0.        ])"
      ]
     },
     "execution_count": 22,
     "metadata": {},
     "output_type": "execute_result"
    }
   ],
   "source": [
    "mi_score"
   ]
  },
  {
   "cell_type": "code",
   "execution_count": 23,
   "metadata": {},
   "outputs": [],
   "source": [
    "mi_df=pd.DataFrame({'Feature':x.columns,'Mutual Information Score':mi_score})"
   ]
  },
  {
   "cell_type": "code",
   "execution_count": 24,
   "metadata": {},
   "outputs": [],
   "source": [
    "mi_df=mi_df.sort_values(by='Mutual Information Score',ascending=False)"
   ]
  },
  {
   "cell_type": "code",
   "execution_count": 25,
   "metadata": {},
   "outputs": [
    {
     "name": "stdout",
     "output_type": "stream",
     "text": [
      "             Feature  Mutual Information Score\n",
      "2          Sales_Rep                  1.584373\n",
      "3             Region                  1.397894\n",
      "6   Product_Category                  0.043316\n",
      "4       Sales_Amount                  0.022192\n",
      "5      Quantity_Sold                  0.017141\n",
      "0         Product_ID                  0.008838\n",
      "9      Customer_Type                  0.006189\n",
      "1          Sale_Date                  0.000000\n",
      "7          Unit_Cost                  0.000000\n",
      "8         Unit_Price                  0.000000\n",
      "10          Discount                  0.000000\n",
      "11    Payment_Method                  0.000000\n",
      "12     Sales_Channel                  0.000000\n"
     ]
    }
   ],
   "source": [
    "print(mi_df)"
   ]
  }
 ],
 "metadata": {
  "kernelspec": {
   "display_name": "Python 3",
   "language": "python",
   "name": "python3"
  },
  "language_info": {
   "codemirror_mode": {
    "name": "ipython",
    "version": 3
   },
   "file_extension": ".py",
   "mimetype": "text/x-python",
   "name": "python",
   "nbconvert_exporter": "python",
   "pygments_lexer": "ipython3",
   "version": "3.13.1"
  }
 },
 "nbformat": 4,
 "nbformat_minor": 2
}
